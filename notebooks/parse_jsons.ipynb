{
 "cells": [
  {
   "cell_type": "code",
   "execution_count": 4,
   "id": "3f7b107e-9aa9-4245-a59e-bef26d816efa",
   "metadata": {},
   "outputs": [],
   "source": [
    "import json\n",
    "import pandas as pd\n",
    "from datetime import date, timedelta"
   ]
  },
  {
   "cell_type": "code",
   "execution_count": 9,
   "id": "b5e5c973-b99e-4962-b740-40aed262d68a",
   "metadata": {},
   "outputs": [],
   "source": [
    "for i in range(5, 30):\n",
    "    \n",
    "    file_path = \"../data/Daily cases by age/\" + str(i) + \".json\"\n",
    "\n",
    "    with open(file_path) as json_data:\n",
    "        one_day_data = json.load(json_data)\n",
    "        \n",
    "    df_one_day = pd.json_normalize(one_day_data['data'])\n",
    "    \n",
    "    date_str = \"2021-12-\" + str(i).zfill(2)\n",
    "    df_one_day.to_csv(\"../data/\" + date_str + \".csv\")"
   ]
  },
  {
   "cell_type": "code",
   "execution_count": null,
   "id": "0de3baf9-8b77-4083-8193-921c4c92e34c",
   "metadata": {},
   "outputs": [],
   "source": []
  }
 ],
 "metadata": {
  "kernelspec": {
   "display_name": "Python 3 (ipykernel)",
   "language": "python",
   "name": "python3"
  },
  "language_info": {
   "codemirror_mode": {
    "name": "ipython",
    "version": 3
   },
   "file_extension": ".py",
   "mimetype": "text/x-python",
   "name": "python",
   "nbconvert_exporter": "python",
   "pygments_lexer": "ipython3",
   "version": "3.8.12"
  }
 },
 "nbformat": 4,
 "nbformat_minor": 5
}
