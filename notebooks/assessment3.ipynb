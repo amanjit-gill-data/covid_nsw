{
 "cells": [
  {
   "cell_type": "code",
   "execution_count": 1,
   "id": "a0d8c006-c21d-437c-a41e-60ed38037e5a",
   "metadata": {},
   "outputs": [],
   "source": [
    "from sympy import *\n",
    "from sympy.stats import *\n",
    "from sympy.functions.combinatorial.numbers import *"
   ]
  },
  {
   "cell_type": "code",
   "execution_count": null,
   "id": "7ca24788-9dca-4be3-9872-65629f2cd3ad",
   "metadata": {},
   "outputs": [],
   "source": [
    "#Q2b method 1\n",
    "# use a continuous RV object\n",
    "# evaluate integral for E(X)\n",
    "\n",
    "x = Symbol('x')\n",
    "y = Symbol('y')\n",
    "\n",
    "pdf = 4*exp(-4*(y-6))\n",
    "\n",
    "Y = ContinuousRV(y, pdf, set=Interval(6, oo))\n",
    "\n",
    "Expectation(Y).doit().round(2)"
   ]
  },
  {
   "cell_type": "code",
   "execution_count": null,
   "id": "5e78d524-9ff2-42be-9c84-6066fcf58851",
   "metadata": {},
   "outputs": [],
   "source": [
    "#Q2b method 1 note\n",
    "# can print out integral expression for E(X) if needed\n",
    "\n",
    "Expectation(Y).rewrite(Integral)"
   ]
  },
  {
   "cell_type": "code",
   "execution_count": null,
   "id": "6daa085b-a6fd-4c2e-bd41-849c140fa8b1",
   "metadata": {},
   "outputs": [],
   "source": [
    "#Q2b method 2\n",
    "# calculate a definite integral without using RV object\n",
    "\n",
    "integrate(y*pdf, (y, 6, oo)).evalf()"
   ]
  },
  {
   "cell_type": "code",
   "execution_count": null,
   "id": "dc44e81b-82dd-4c42-adb1-248d9cd60cf7",
   "metadata": {},
   "outputs": [],
   "source": [
    "#Q2c similar method to Q2b method 1\n",
    "\n",
    "x = Symbol('x')\n",
    "y = Symbol('y')\n",
    "\n",
    "pdf = 4*exp(-4*(y-6))\n",
    "\n",
    "Y = ContinuousRV(y, pdf, set=Interval(6, oo))\n",
    "\n",
    "Expectation(Y).doit().round(2)"
   ]
  },
  {
   "cell_type": "code",
   "execution_count": null,
   "id": "bb650baf-4c13-4c27-9e97-47739ca20b42",
   "metadata": {},
   "outputs": [],
   "source": [
    "#Q2d\n",
    "\n",
    "# set prob for each outcome\n",
    "# probs won't add up to 1 in the distribution due to floating pt error\n",
    "# solution: use nsimplify\n",
    "# it also makes the decimal arithmetic more accurate at the end - matches Casio calculator\n",
    "# Float('0.7', 1) worked, but still allowed inaccuracy at the end\n",
    "p1 = nsimplify(0.7)\n",
    "p2 = nsimplify(0.1)\n",
    "\n",
    "# set number of trials\n",
    "n = 6\n",
    "\n",
    "# create distribution\n",
    "X = Multinomial('M', n, p1, p2, p2, p2)\n",
    "\n",
    "# set count for each outcome\n",
    "x1 = 3\n",
    "x2 = 1\n",
    "x3 = 1\n",
    "x4 = 1\n",
    "\n",
    "# evaluate probability of that combination of counts\n",
    "# nsimplify makes density return a fraction, and density defaults to 2dp anyway\n",
    "# to solve both issues, need to use round() or .evalf()\n",
    "density(X)(x1, x2, x3, x4).evalf()"
   ]
  },
  {
   "cell_type": "code",
   "execution_count": 14,
   "id": "07f91d09-bd24-4beb-8dce-99446d8db2a2",
   "metadata": {},
   "outputs": [
    {
     "data": {
      "text/latex": [
       "$\\displaystyle 0.213$"
      ],
      "text/plain": [
       "0.213"
      ]
     },
     "execution_count": 14,
     "metadata": {},
     "output_type": "execute_result"
    }
   ],
   "source": [
    "#Q2e\n",
    "\n",
    "n = 12\n",
    "p = 0.4\n",
    "\n",
    "X = Binomial('X', 12, 0.4)\n",
    "\n",
    "# both of the below expressions work\n",
    "density(Eq(X1, 4))\n",
    "round(density(X)(4), 3)"
   ]
  },
  {
   "cell_type": "code",
   "execution_count": null,
   "id": "ee4b5dc6-da5b-4d89-b0ec-7e2d3185e2c4",
   "metadata": {},
   "outputs": [],
   "source": []
  },
  {
   "cell_type": "code",
   "execution_count": null,
   "id": "33c4b83f-cae8-4a67-9237-ab0e83ddd15a",
   "metadata": {},
   "outputs": [],
   "source": []
  },
  {
   "cell_type": "code",
   "execution_count": null,
   "id": "0c6dc1a6-99eb-4aea-8828-5bc3fabcd542",
   "metadata": {},
   "outputs": [],
   "source": []
  }
 ],
 "metadata": {
  "kernelspec": {
   "display_name": "Python 3 (ipykernel)",
   "language": "python",
   "name": "python3"
  },
  "language_info": {
   "codemirror_mode": {
    "name": "ipython",
    "version": 3
   },
   "file_extension": ".py",
   "mimetype": "text/x-python",
   "name": "python",
   "nbconvert_exporter": "python",
   "pygments_lexer": "ipython3",
   "version": "3.10.4"
  }
 },
 "nbformat": 4,
 "nbformat_minor": 5
}
