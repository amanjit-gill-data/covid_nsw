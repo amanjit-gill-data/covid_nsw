{
 "cells": [
  {
   "cell_type": "code",
   "execution_count": 1,
   "id": "71ca9bda-fc94-4b64-bfed-5b9fb50947ce",
   "metadata": {},
   "outputs": [],
   "source": [
    "import pandas as pd\n",
    "from datetime import date, timedelta"
   ]
  },
  {
   "cell_type": "code",
   "execution_count": 2,
   "id": "7dc86df0-7249-43e0-b43f-641b6caedac7",
   "metadata": {},
   "outputs": [
    {
     "name": "stdout",
     "output_type": "stream",
     "text": [
      "No data for 2021-12-08\n",
      "No data for 2021-12-16\n",
      "No data for 2022-01-22\n",
      "No data for 2022-01-23\n"
     ]
    }
   ],
   "source": [
    "# open each CSV, from first date (5/12/21) to today, and put the 0-9 and 10-19 cases into a dataframe, df_all\n",
    "# df_all will contain one line per date; each date will have 0-9 cases and 10-19 cases\n",
    "# note: cron job picked up previous date's cases on 8/12/21 & 16/12/21, so I deleted those CSVs and they won't be found\n",
    "\n",
    "first = date(2021, 12, 5)\n",
    "today = date.today()\n",
    "\n",
    "df_all = pd.DataFrame(columns = ['date', 'cases_0_9', 'cases_10_19'])\n",
    "\n",
    "curr = first\n",
    "\n",
    "while (curr < today):\n",
    "    \n",
    "    file_path = \"../data/daily csvs/\" + curr.isoformat() + \".csv\"\n",
    "    try:\n",
    "        df_curr = pd.read_csv(file_path, index_col = 0)\n",
    "        df_all = df_all.append({'date': curr.isoformat(), 'cases_0_9': df_curr.iloc[0,1], 'cases_10_19': df_curr.iloc[1,1]}, ignore_index = True)\n",
    "    except FileNotFoundError:\n",
    "        print(\"No data for \" + curr.isoformat())\n",
    "    curr = curr + timedelta(days = 1)"
   ]
  },
  {
   "cell_type": "code",
   "execution_count": 3,
   "id": "da8d45a2-2038-48f2-bca1-2b1a5739976f",
   "metadata": {},
   "outputs": [
    {
     "data": {
      "text/html": [
       "<div>\n",
       "<style scoped>\n",
       "    .dataframe tbody tr th:only-of-type {\n",
       "        vertical-align: middle;\n",
       "    }\n",
       "\n",
       "    .dataframe tbody tr th {\n",
       "        vertical-align: top;\n",
       "    }\n",
       "\n",
       "    .dataframe thead th {\n",
       "        text-align: right;\n",
       "    }\n",
       "</style>\n",
       "<table border=\"1\" class=\"dataframe\">\n",
       "  <thead>\n",
       "    <tr style=\"text-align: right;\">\n",
       "      <th></th>\n",
       "      <th>date</th>\n",
       "      <th>cases_0_9</th>\n",
       "      <th>cases_10_19</th>\n",
       "    </tr>\n",
       "  </thead>\n",
       "  <tbody>\n",
       "    <tr>\n",
       "      <th>42</th>\n",
       "      <td>2022-01-18</td>\n",
       "      <td>1593</td>\n",
       "      <td>1723</td>\n",
       "    </tr>\n",
       "    <tr>\n",
       "      <th>43</th>\n",
       "      <td>2022-01-19</td>\n",
       "      <td>1938</td>\n",
       "      <td>2083</td>\n",
       "    </tr>\n",
       "    <tr>\n",
       "      <th>44</th>\n",
       "      <td>2022-01-20</td>\n",
       "      <td>1808</td>\n",
       "      <td>1823</td>\n",
       "    </tr>\n",
       "    <tr>\n",
       "      <th>45</th>\n",
       "      <td>2022-01-21</td>\n",
       "      <td>2110</td>\n",
       "      <td>2356</td>\n",
       "    </tr>\n",
       "    <tr>\n",
       "      <th>46</th>\n",
       "      <td>2022-01-24</td>\n",
       "      <td>993</td>\n",
       "      <td>888</td>\n",
       "    </tr>\n",
       "  </tbody>\n",
       "</table>\n",
       "</div>"
      ],
      "text/plain": [
       "          date cases_0_9 cases_10_19\n",
       "42  2022-01-18      1593        1723\n",
       "43  2022-01-19      1938        2083\n",
       "44  2022-01-20      1808        1823\n",
       "45  2022-01-21      2110        2356\n",
       "46  2022-01-24       993         888"
      ]
     },
     "execution_count": 3,
     "metadata": {},
     "output_type": "execute_result"
    }
   ],
   "source": [
    "df_all.tail()"
   ]
  },
  {
   "cell_type": "code",
   "execution_count": 4,
   "id": "ba7fcb5a-ca07-4d7a-bfb3-d81e5653f7f6",
   "metadata": {},
   "outputs": [],
   "source": [
    "df_all.to_csv(\"../data/cases_0_19.csv\")"
   ]
  },
  {
   "cell_type": "code",
   "execution_count": null,
   "id": "ca403b1a-985d-4e0d-9158-11279010aabe",
   "metadata": {},
   "outputs": [],
   "source": []
  }
 ],
 "metadata": {
  "kernelspec": {
   "display_name": "Python 3 (ipykernel)",
   "language": "python",
   "name": "python3"
  },
  "language_info": {
   "codemirror_mode": {
    "name": "ipython",
    "version": 3
   },
   "file_extension": ".py",
   "mimetype": "text/x-python",
   "name": "python",
   "nbconvert_exporter": "python",
   "pygments_lexer": "ipython3",
   "version": "3.10.4"
  }
 },
 "nbformat": 4,
 "nbformat_minor": 5
}
