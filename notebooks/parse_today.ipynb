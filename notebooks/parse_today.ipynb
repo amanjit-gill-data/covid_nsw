{
 "cells": [
  {
   "cell_type": "code",
   "execution_count": 31,
   "id": "97d42d8b-1367-4432-9d39-1a52569b72e8",
   "metadata": {},
   "outputs": [],
   "source": [
    "import requests\n",
    "import pandas as pd\n",
    "from datetime import date, timedelta"
   ]
  },
  {
   "cell_type": "code",
   "execution_count": 32,
   "id": "a65e4017-a2f7-4be3-9444-30fc7864bd73",
   "metadata": {},
   "outputs": [],
   "source": [
    "# get json for today\n",
    "\n",
    "with open(\"data_source.txt\", \"r\") as data_source:\n",
    "    url = data_source.readline()\n",
    "\n",
    "resp = requests.get(url.strip())"
   ]
  },
  {
   "cell_type": "code",
   "execution_count": 33,
   "id": "c80053f8-6ea4-401d-94e2-da28627d7453",
   "metadata": {},
   "outputs": [
    {
     "data": {
      "text/plain": [
       "[{'AgeGroup': '0-9', 'Cases': 843},\n",
       " {'AgeGroup': '10-19', 'Cases': 1050},\n",
       " {'AgeGroup': '20-29', 'Cases': 1042},\n",
       " {'AgeGroup': '30-39', 'Cases': 1382},\n",
       " {'AgeGroup': '40-49', 'Cases': 1228},\n",
       " {'AgeGroup': '50-59', 'Cases': 1110},\n",
       " {'AgeGroup': '60-69', 'Cases': 861},\n",
       " {'AgeGroup': '70-79', 'Cases': 500},\n",
       " {'AgeGroup': '80-89', 'Cases': 204},\n",
       " {'AgeGroup': '90+', 'Cases': 66}]"
      ]
     },
     "execution_count": 33,
     "metadata": {},
     "output_type": "execute_result"
    }
   ],
   "source": [
    "today_data = resp.json()['data']\n",
    "today_data"
   ]
  },
  {
   "cell_type": "code",
   "execution_count": 34,
   "id": "6450bd91-ec9a-40ed-aa15-e81b86c610ce",
   "metadata": {},
   "outputs": [
    {
     "data": {
      "text/html": [
       "<div>\n",
       "<style scoped>\n",
       "    .dataframe tbody tr th:only-of-type {\n",
       "        vertical-align: middle;\n",
       "    }\n",
       "\n",
       "    .dataframe tbody tr th {\n",
       "        vertical-align: top;\n",
       "    }\n",
       "\n",
       "    .dataframe thead th {\n",
       "        text-align: right;\n",
       "    }\n",
       "</style>\n",
       "<table border=\"1\" class=\"dataframe\">\n",
       "  <thead>\n",
       "    <tr style=\"text-align: right;\">\n",
       "      <th></th>\n",
       "      <th>AgeGroup</th>\n",
       "      <th>Cases</th>\n",
       "    </tr>\n",
       "  </thead>\n",
       "  <tbody>\n",
       "    <tr>\n",
       "      <th>0</th>\n",
       "      <td>0-9</td>\n",
       "      <td>843</td>\n",
       "    </tr>\n",
       "    <tr>\n",
       "      <th>1</th>\n",
       "      <td>10-19</td>\n",
       "      <td>1050</td>\n",
       "    </tr>\n",
       "    <tr>\n",
       "      <th>2</th>\n",
       "      <td>20-29</td>\n",
       "      <td>1042</td>\n",
       "    </tr>\n",
       "    <tr>\n",
       "      <th>3</th>\n",
       "      <td>30-39</td>\n",
       "      <td>1382</td>\n",
       "    </tr>\n",
       "    <tr>\n",
       "      <th>4</th>\n",
       "      <td>40-49</td>\n",
       "      <td>1228</td>\n",
       "    </tr>\n",
       "    <tr>\n",
       "      <th>5</th>\n",
       "      <td>50-59</td>\n",
       "      <td>1110</td>\n",
       "    </tr>\n",
       "    <tr>\n",
       "      <th>6</th>\n",
       "      <td>60-69</td>\n",
       "      <td>861</td>\n",
       "    </tr>\n",
       "    <tr>\n",
       "      <th>7</th>\n",
       "      <td>70-79</td>\n",
       "      <td>500</td>\n",
       "    </tr>\n",
       "    <tr>\n",
       "      <th>8</th>\n",
       "      <td>80-89</td>\n",
       "      <td>204</td>\n",
       "    </tr>\n",
       "    <tr>\n",
       "      <th>9</th>\n",
       "      <td>90+</td>\n",
       "      <td>66</td>\n",
       "    </tr>\n",
       "  </tbody>\n",
       "</table>\n",
       "</div>"
      ],
      "text/plain": [
       "  AgeGroup  Cases\n",
       "0      0-9    843\n",
       "1    10-19   1050\n",
       "2    20-29   1042\n",
       "3    30-39   1382\n",
       "4    40-49   1228\n",
       "5    50-59   1110\n",
       "6    60-69    861\n",
       "7    70-79    500\n",
       "8    80-89    204\n",
       "9      90+     66"
      ]
     },
     "execution_count": 34,
     "metadata": {},
     "output_type": "execute_result"
    }
   ],
   "source": [
    "df_today = pd.json_normalize(today_data)\n",
    "df_today"
   ]
  },
  {
   "cell_type": "code",
   "execution_count": 35,
   "id": "95df589c-7e40-498f-87f4-c6fe5b7b2b6c",
   "metadata": {},
   "outputs": [],
   "source": [
    "# store today's data (for all ages) in csv\n",
    "\n",
    "date_str = date.today().isoformat()\n",
    "df_today.to_csv(\"../data/daily csvs/\" + date_str + \".csv\")"
   ]
  },
  {
   "cell_type": "code",
   "execution_count": 36,
   "id": "c5312b8e-f9ee-45f1-82d2-8ed5aa066912",
   "metadata": {},
   "outputs": [],
   "source": [
    "# now open CSV containing all dates\n",
    "\n",
    "df_all = pd.read_csv(\"../data/cases_0_19.csv\", index_col = 0)"
   ]
  },
  {
   "cell_type": "code",
   "execution_count": 37,
   "id": "fea2df58-0153-4dd5-ac12-f05b8dd67c55",
   "metadata": {},
   "outputs": [
    {
     "data": {
      "text/html": [
       "<div>\n",
       "<style scoped>\n",
       "    .dataframe tbody tr th:only-of-type {\n",
       "        vertical-align: middle;\n",
       "    }\n",
       "\n",
       "    .dataframe tbody tr th {\n",
       "        vertical-align: top;\n",
       "    }\n",
       "\n",
       "    .dataframe thead th {\n",
       "        text-align: right;\n",
       "    }\n",
       "</style>\n",
       "<table border=\"1\" class=\"dataframe\">\n",
       "  <thead>\n",
       "    <tr style=\"text-align: right;\">\n",
       "      <th></th>\n",
       "      <th>date</th>\n",
       "      <th>cases_0_9</th>\n",
       "      <th>cases_10_19</th>\n",
       "    </tr>\n",
       "  </thead>\n",
       "  <tbody>\n",
       "    <tr>\n",
       "      <th>148</th>\n",
       "      <td>2022-05-11</td>\n",
       "      <td>1328</td>\n",
       "      <td>1599</td>\n",
       "    </tr>\n",
       "    <tr>\n",
       "      <th>149</th>\n",
       "      <td>2022-05-12</td>\n",
       "      <td>1285</td>\n",
       "      <td>1504</td>\n",
       "    </tr>\n",
       "    <tr>\n",
       "      <th>150</th>\n",
       "      <td>2022-05-13</td>\n",
       "      <td>1188</td>\n",
       "      <td>1376</td>\n",
       "    </tr>\n",
       "    <tr>\n",
       "      <th>151</th>\n",
       "      <td>2022-05-14</td>\n",
       "      <td>1071</td>\n",
       "      <td>1319</td>\n",
       "    </tr>\n",
       "    <tr>\n",
       "      <th>152</th>\n",
       "      <td>2022-05-15</td>\n",
       "      <td>901</td>\n",
       "      <td>1009</td>\n",
       "    </tr>\n",
       "  </tbody>\n",
       "</table>\n",
       "</div>"
      ],
      "text/plain": [
       "           date  cases_0_9  cases_10_19\n",
       "148  2022-05-11       1328         1599\n",
       "149  2022-05-12       1285         1504\n",
       "150  2022-05-13       1188         1376\n",
       "151  2022-05-14       1071         1319\n",
       "152  2022-05-15        901         1009"
      ]
     },
     "execution_count": 37,
     "metadata": {},
     "output_type": "execute_result"
    }
   ],
   "source": [
    "df_all.tail()"
   ]
  },
  {
   "cell_type": "code",
   "execution_count": 38,
   "id": "f92dd3ac-1f9d-4693-a4ee-748cef6b8195",
   "metadata": {},
   "outputs": [
    {
     "name": "stderr",
     "output_type": "stream",
     "text": [
      "C:\\Users\\amanj\\AppData\\Local\\Temp\\ipykernel_15268\\4141770180.py:3: FutureWarning: The frame.append method is deprecated and will be removed from pandas in a future version. Use pandas.concat instead.\n",
      "  df_all = df_all.append({'date': today.isoformat(), 'cases_0_9': df_today.loc[0, 'Cases'],\n"
     ]
    }
   ],
   "source": [
    "today = date.today()\n",
    "\n",
    "df_all = df_all.append({'date': today.isoformat(), 'cases_0_9': df_today.loc[0, 'Cases'], \n",
    "                          'cases_10_19': df_today.loc[1, 'Cases']}, ignore_index = True)"
   ]
  },
  {
   "cell_type": "code",
   "execution_count": 39,
   "id": "4b079a9f-1c45-4bf5-990b-569d0ce08843",
   "metadata": {},
   "outputs": [
    {
     "data": {
      "text/html": [
       "<div>\n",
       "<style scoped>\n",
       "    .dataframe tbody tr th:only-of-type {\n",
       "        vertical-align: middle;\n",
       "    }\n",
       "\n",
       "    .dataframe tbody tr th {\n",
       "        vertical-align: top;\n",
       "    }\n",
       "\n",
       "    .dataframe thead th {\n",
       "        text-align: right;\n",
       "    }\n",
       "</style>\n",
       "<table border=\"1\" class=\"dataframe\">\n",
       "  <thead>\n",
       "    <tr style=\"text-align: right;\">\n",
       "      <th></th>\n",
       "      <th>date</th>\n",
       "      <th>cases_0_9</th>\n",
       "      <th>cases_10_19</th>\n",
       "    </tr>\n",
       "  </thead>\n",
       "  <tbody>\n",
       "    <tr>\n",
       "      <th>149</th>\n",
       "      <td>2022-05-12</td>\n",
       "      <td>1285</td>\n",
       "      <td>1504</td>\n",
       "    </tr>\n",
       "    <tr>\n",
       "      <th>150</th>\n",
       "      <td>2022-05-13</td>\n",
       "      <td>1188</td>\n",
       "      <td>1376</td>\n",
       "    </tr>\n",
       "    <tr>\n",
       "      <th>151</th>\n",
       "      <td>2022-05-14</td>\n",
       "      <td>1071</td>\n",
       "      <td>1319</td>\n",
       "    </tr>\n",
       "    <tr>\n",
       "      <th>152</th>\n",
       "      <td>2022-05-15</td>\n",
       "      <td>901</td>\n",
       "      <td>1009</td>\n",
       "    </tr>\n",
       "    <tr>\n",
       "      <th>153</th>\n",
       "      <td>2022-05-16</td>\n",
       "      <td>843</td>\n",
       "      <td>1050</td>\n",
       "    </tr>\n",
       "  </tbody>\n",
       "</table>\n",
       "</div>"
      ],
      "text/plain": [
       "           date  cases_0_9  cases_10_19\n",
       "149  2022-05-12       1285         1504\n",
       "150  2022-05-13       1188         1376\n",
       "151  2022-05-14       1071         1319\n",
       "152  2022-05-15        901         1009\n",
       "153  2022-05-16        843         1050"
      ]
     },
     "execution_count": 39,
     "metadata": {},
     "output_type": "execute_result"
    }
   ],
   "source": [
    "df_all.tail()"
   ]
  },
  {
   "cell_type": "code",
   "execution_count": 40,
   "id": "aa10999e-1442-400a-9f23-c97b89abd34b",
   "metadata": {},
   "outputs": [],
   "source": [
    "df_all.to_csv(\"../data/cases_0_19.csv\")"
   ]
  },
  {
   "cell_type": "code",
   "execution_count": null,
   "id": "d1ed336b-ac0a-4ec1-b3cb-cae402599bb4",
   "metadata": {},
   "outputs": [],
   "source": []
  }
 ],
 "metadata": {
  "kernelspec": {
   "display_name": "Python 3 (ipykernel)",
   "language": "python",
   "name": "python3"
  },
  "language_info": {
   "codemirror_mode": {
    "name": "ipython",
    "version": 3
   },
   "file_extension": ".py",
   "mimetype": "text/x-python",
   "name": "python",
   "nbconvert_exporter": "python",
   "pygments_lexer": "ipython3",
   "version": "3.10.4"
  }
 },
 "nbformat": 4,
 "nbformat_minor": 5
}
