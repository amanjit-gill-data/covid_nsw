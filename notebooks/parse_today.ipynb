{
 "cells": [
  {
   "cell_type": "code",
   "execution_count": 11,
   "id": "97d42d8b-1367-4432-9d39-1a52569b72e8",
   "metadata": {},
   "outputs": [],
   "source": [
    "import requests\n",
    "import pandas as pd\n",
    "from datetime import date, timedelta"
   ]
  },
  {
   "cell_type": "code",
   "execution_count": 12,
   "id": "a65e4017-a2f7-4be3-9444-30fc7864bd73",
   "metadata": {},
   "outputs": [],
   "source": [
    "# get json for today\n",
    "\n",
    "with open(\"data_source.txt\", \"r\") as data_source:\n",
    "    url = data_source.readline()\n",
    "\n",
    "resp = requests.get(url.strip())"
   ]
  },
  {
   "cell_type": "code",
   "execution_count": 13,
   "id": "c80053f8-6ea4-401d-94e2-da28627d7453",
   "metadata": {},
   "outputs": [
    {
     "data": {
      "text/plain": [
       "[{'AgeGroup': '0-9', 'Cases': 704},\n",
       " {'AgeGroup': '10-19', 'Cases': 821},\n",
       " {'AgeGroup': '20-29', 'Cases': 1069},\n",
       " {'AgeGroup': '30-39', 'Cases': 1379},\n",
       " {'AgeGroup': '40-49', 'Cases': 1155},\n",
       " {'AgeGroup': '50-59', 'Cases': 1082},\n",
       " {'AgeGroup': '60-69', 'Cases': 846},\n",
       " {'AgeGroup': '70-79', 'Cases': 475},\n",
       " {'AgeGroup': '80-89', 'Cases': 208},\n",
       " {'AgeGroup': '90+', 'Cases': 86}]"
      ]
     },
     "execution_count": 13,
     "metadata": {},
     "output_type": "execute_result"
    }
   ],
   "source": [
    "today_data = resp.json()['data']\n",
    "today_data"
   ]
  },
  {
   "cell_type": "code",
   "execution_count": 14,
   "id": "6450bd91-ec9a-40ed-aa15-e81b86c610ce",
   "metadata": {},
   "outputs": [
    {
     "data": {
      "text/html": [
       "<div>\n",
       "<style scoped>\n",
       "    .dataframe tbody tr th:only-of-type {\n",
       "        vertical-align: middle;\n",
       "    }\n",
       "\n",
       "    .dataframe tbody tr th {\n",
       "        vertical-align: top;\n",
       "    }\n",
       "\n",
       "    .dataframe thead th {\n",
       "        text-align: right;\n",
       "    }\n",
       "</style>\n",
       "<table border=\"1\" class=\"dataframe\">\n",
       "  <thead>\n",
       "    <tr style=\"text-align: right;\">\n",
       "      <th></th>\n",
       "      <th>AgeGroup</th>\n",
       "      <th>Cases</th>\n",
       "    </tr>\n",
       "  </thead>\n",
       "  <tbody>\n",
       "    <tr>\n",
       "      <th>0</th>\n",
       "      <td>0-9</td>\n",
       "      <td>704</td>\n",
       "    </tr>\n",
       "    <tr>\n",
       "      <th>1</th>\n",
       "      <td>10-19</td>\n",
       "      <td>821</td>\n",
       "    </tr>\n",
       "    <tr>\n",
       "      <th>2</th>\n",
       "      <td>20-29</td>\n",
       "      <td>1069</td>\n",
       "    </tr>\n",
       "    <tr>\n",
       "      <th>3</th>\n",
       "      <td>30-39</td>\n",
       "      <td>1379</td>\n",
       "    </tr>\n",
       "    <tr>\n",
       "      <th>4</th>\n",
       "      <td>40-49</td>\n",
       "      <td>1155</td>\n",
       "    </tr>\n",
       "    <tr>\n",
       "      <th>5</th>\n",
       "      <td>50-59</td>\n",
       "      <td>1082</td>\n",
       "    </tr>\n",
       "    <tr>\n",
       "      <th>6</th>\n",
       "      <td>60-69</td>\n",
       "      <td>846</td>\n",
       "    </tr>\n",
       "    <tr>\n",
       "      <th>7</th>\n",
       "      <td>70-79</td>\n",
       "      <td>475</td>\n",
       "    </tr>\n",
       "    <tr>\n",
       "      <th>8</th>\n",
       "      <td>80-89</td>\n",
       "      <td>208</td>\n",
       "    </tr>\n",
       "    <tr>\n",
       "      <th>9</th>\n",
       "      <td>90+</td>\n",
       "      <td>86</td>\n",
       "    </tr>\n",
       "  </tbody>\n",
       "</table>\n",
       "</div>"
      ],
      "text/plain": [
       "  AgeGroup  Cases\n",
       "0      0-9    704\n",
       "1    10-19    821\n",
       "2    20-29   1069\n",
       "3    30-39   1379\n",
       "4    40-49   1155\n",
       "5    50-59   1082\n",
       "6    60-69    846\n",
       "7    70-79    475\n",
       "8    80-89    208\n",
       "9      90+     86"
      ]
     },
     "execution_count": 14,
     "metadata": {},
     "output_type": "execute_result"
    }
   ],
   "source": [
    "df_today = pd.json_normalize(today_data)\n",
    "df_today"
   ]
  },
  {
   "cell_type": "code",
   "execution_count": 15,
   "id": "95df589c-7e40-498f-87f4-c6fe5b7b2b6c",
   "metadata": {},
   "outputs": [],
   "source": [
    "# store today's data (for all ages) in csv\n",
    "\n",
    "date_str = date.today().isoformat()\n",
    "df_today.to_csv(\"../data/daily csvs/\" + date_str + \".csv\")"
   ]
  },
  {
   "cell_type": "code",
   "execution_count": 16,
   "id": "c5312b8e-f9ee-45f1-82d2-8ed5aa066912",
   "metadata": {},
   "outputs": [],
   "source": [
    "# now open CSV containing all dates\n",
    "\n",
    "df_all = pd.read_csv(\"../data/cases_0_19.csv\", index_col = 0)"
   ]
  },
  {
   "cell_type": "code",
   "execution_count": 17,
   "id": "fea2df58-0153-4dd5-ac12-f05b8dd67c55",
   "metadata": {},
   "outputs": [
    {
     "data": {
      "text/html": [
       "<div>\n",
       "<style scoped>\n",
       "    .dataframe tbody tr th:only-of-type {\n",
       "        vertical-align: middle;\n",
       "    }\n",
       "\n",
       "    .dataframe tbody tr th {\n",
       "        vertical-align: top;\n",
       "    }\n",
       "\n",
       "    .dataframe thead th {\n",
       "        text-align: right;\n",
       "    }\n",
       "</style>\n",
       "<table border=\"1\" class=\"dataframe\">\n",
       "  <thead>\n",
       "    <tr style=\"text-align: right;\">\n",
       "      <th></th>\n",
       "      <th>date</th>\n",
       "      <th>cases_0_9</th>\n",
       "      <th>cases_10_19</th>\n",
       "    </tr>\n",
       "  </thead>\n",
       "  <tbody>\n",
       "    <tr>\n",
       "      <th>170</th>\n",
       "      <td>2022-06-03</td>\n",
       "      <td>628</td>\n",
       "      <td>714</td>\n",
       "    </tr>\n",
       "    <tr>\n",
       "      <th>171</th>\n",
       "      <td>2022-06-04</td>\n",
       "      <td>583</td>\n",
       "      <td>692</td>\n",
       "    </tr>\n",
       "    <tr>\n",
       "      <th>172</th>\n",
       "      <td>2022-06-05</td>\n",
       "      <td>486</td>\n",
       "      <td>529</td>\n",
       "    </tr>\n",
       "    <tr>\n",
       "      <th>173</th>\n",
       "      <td>2022-06-06</td>\n",
       "      <td>396</td>\n",
       "      <td>435</td>\n",
       "    </tr>\n",
       "    <tr>\n",
       "      <th>174</th>\n",
       "      <td>2022-06-07</td>\n",
       "      <td>609</td>\n",
       "      <td>721</td>\n",
       "    </tr>\n",
       "  </tbody>\n",
       "</table>\n",
       "</div>"
      ],
      "text/plain": [
       "           date  cases_0_9  cases_10_19\n",
       "170  2022-06-03        628          714\n",
       "171  2022-06-04        583          692\n",
       "172  2022-06-05        486          529\n",
       "173  2022-06-06        396          435\n",
       "174  2022-06-07        609          721"
      ]
     },
     "execution_count": 17,
     "metadata": {},
     "output_type": "execute_result"
    }
   ],
   "source": [
    "df_all.tail()"
   ]
  },
  {
   "cell_type": "code",
   "execution_count": 18,
   "id": "f92dd3ac-1f9d-4693-a4ee-748cef6b8195",
   "metadata": {},
   "outputs": [
    {
     "name": "stderr",
     "output_type": "stream",
     "text": [
      "C:\\Users\\amanj\\AppData\\Local\\Temp\\ipykernel_11756\\4141770180.py:3: FutureWarning: The frame.append method is deprecated and will be removed from pandas in a future version. Use pandas.concat instead.\n",
      "  df_all = df_all.append({'date': today.isoformat(), 'cases_0_9': df_today.loc[0, 'Cases'],\n"
     ]
    }
   ],
   "source": [
    "today = date.today()\n",
    "\n",
    "df_all = df_all.append({'date': today.isoformat(), 'cases_0_9': df_today.loc[0, 'Cases'], \n",
    "                          'cases_10_19': df_today.loc[1, 'Cases']}, ignore_index = True)"
   ]
  },
  {
   "cell_type": "code",
   "execution_count": 19,
   "id": "4b079a9f-1c45-4bf5-990b-569d0ce08843",
   "metadata": {},
   "outputs": [
    {
     "data": {
      "text/html": [
       "<div>\n",
       "<style scoped>\n",
       "    .dataframe tbody tr th:only-of-type {\n",
       "        vertical-align: middle;\n",
       "    }\n",
       "\n",
       "    .dataframe tbody tr th {\n",
       "        vertical-align: top;\n",
       "    }\n",
       "\n",
       "    .dataframe thead th {\n",
       "        text-align: right;\n",
       "    }\n",
       "</style>\n",
       "<table border=\"1\" class=\"dataframe\">\n",
       "  <thead>\n",
       "    <tr style=\"text-align: right;\">\n",
       "      <th></th>\n",
       "      <th>date</th>\n",
       "      <th>cases_0_9</th>\n",
       "      <th>cases_10_19</th>\n",
       "    </tr>\n",
       "  </thead>\n",
       "  <tbody>\n",
       "    <tr>\n",
       "      <th>171</th>\n",
       "      <td>2022-06-04</td>\n",
       "      <td>583</td>\n",
       "      <td>692</td>\n",
       "    </tr>\n",
       "    <tr>\n",
       "      <th>172</th>\n",
       "      <td>2022-06-05</td>\n",
       "      <td>486</td>\n",
       "      <td>529</td>\n",
       "    </tr>\n",
       "    <tr>\n",
       "      <th>173</th>\n",
       "      <td>2022-06-06</td>\n",
       "      <td>396</td>\n",
       "      <td>435</td>\n",
       "    </tr>\n",
       "    <tr>\n",
       "      <th>174</th>\n",
       "      <td>2022-06-07</td>\n",
       "      <td>609</td>\n",
       "      <td>721</td>\n",
       "    </tr>\n",
       "    <tr>\n",
       "      <th>175</th>\n",
       "      <td>2022-06-08</td>\n",
       "      <td>704</td>\n",
       "      <td>821</td>\n",
       "    </tr>\n",
       "  </tbody>\n",
       "</table>\n",
       "</div>"
      ],
      "text/plain": [
       "           date  cases_0_9  cases_10_19\n",
       "171  2022-06-04        583          692\n",
       "172  2022-06-05        486          529\n",
       "173  2022-06-06        396          435\n",
       "174  2022-06-07        609          721\n",
       "175  2022-06-08        704          821"
      ]
     },
     "execution_count": 19,
     "metadata": {},
     "output_type": "execute_result"
    }
   ],
   "source": [
    "df_all.tail()"
   ]
  },
  {
   "cell_type": "code",
   "execution_count": 20,
   "id": "aa10999e-1442-400a-9f23-c97b89abd34b",
   "metadata": {},
   "outputs": [],
   "source": [
    "df_all.to_csv(\"../data/cases_0_19.csv\")"
   ]
  },
  {
   "cell_type": "code",
   "execution_count": null,
   "id": "d1ed336b-ac0a-4ec1-b3cb-cae402599bb4",
   "metadata": {},
   "outputs": [],
   "source": []
  }
 ],
 "metadata": {
  "kernelspec": {
   "display_name": "Python 3 (ipykernel)",
   "language": "python",
   "name": "python3"
  },
  "language_info": {
   "codemirror_mode": {
    "name": "ipython",
    "version": 3
   },
   "file_extension": ".py",
   "mimetype": "text/x-python",
   "name": "python",
   "nbconvert_exporter": "python",
   "pygments_lexer": "ipython3",
   "version": "3.10.4"
  }
 },
 "nbformat": 4,
 "nbformat_minor": 5
}
