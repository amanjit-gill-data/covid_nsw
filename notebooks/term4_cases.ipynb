{
 "cells": [
  {
   "cell_type": "code",
   "execution_count": 14,
   "id": "78480e66-5bca-4eb8-a331-43ba5a910aa8",
   "metadata": {},
   "outputs": [],
   "source": [
    "import pandas as pd"
   ]
  },
  {
   "cell_type": "code",
   "execution_count": 15,
   "id": "42c7f665-ab1e-40e2-a840-34e95167913c",
   "metadata": {},
   "outputs": [],
   "source": [
    "df = pd.read_csv(\"../data/all_ages_so_far.csv\")"
   ]
  },
  {
   "cell_type": "code",
   "execution_count": 16,
   "id": "ac79f2ba-b4c5-4323-afa1-54a2e8dd8aca",
   "metadata": {},
   "outputs": [
    {
     "name": "stdout",
     "output_type": "stream",
     "text": [
      "  notification_date       age_group\n",
      "0        2021-06-29   AgeGroup_0-19\n",
      "1        2021-06-29   AgeGroup_0-19\n",
      "2        2021-06-29   AgeGroup_0-19\n",
      "3        2021-06-29  AgeGroup_20-24\n",
      "4        2021-06-29  AgeGroup_20-24\n"
     ]
    },
    {
     "data": {
      "text/plain": [
       "(585003, 2)"
      ]
     },
     "execution_count": 16,
     "metadata": {},
     "output_type": "execute_result"
    }
   ],
   "source": [
    "# confirm correct reading of CSV\n",
    "\n",
    "print(df.head())\n",
    "df.shape"
   ]
  },
  {
   "cell_type": "code",
   "execution_count": 17,
   "id": "a09d56ad-52b4-4c72-8ed5-44cf9cd22eef",
   "metadata": {},
   "outputs": [],
   "source": [
    "# extract all rows, all ages, in Term 4 (from 5 Oct to 17 Dec)\n",
    "\n",
    "df_term4 = df[(df['notification_date'] >= '2021-10-05') & (df['notification_date'] <= '2021-12-17')]"
   ]
  },
  {
   "cell_type": "code",
   "execution_count": 18,
   "id": "2fc243e6-c96f-4ffd-848d-1a82439ffe4d",
   "metadata": {},
   "outputs": [
    {
     "data": {
      "text/plain": [
       "(29728, 2)"
      ]
     },
     "execution_count": 18,
     "metadata": {},
     "output_type": "execute_result"
    }
   ],
   "source": [
    "# confirm that selected number of rows matches how many I saw in CSV\n",
    "\n",
    "df_term4.shape"
   ]
  },
  {
   "cell_type": "code",
   "execution_count": 19,
   "id": "727c659c-b30b-4102-97a2-701d83cab74d",
   "metadata": {},
   "outputs": [
    {
     "data": {
      "text/plain": [
       "(74,)"
      ]
     },
     "execution_count": 19,
     "metadata": {},
     "output_type": "execute_result"
    }
   ],
   "source": [
    "# confirm that df_term4 contains 74 unique dates (that's the number of days from 5 Oct to 17 Dec)\n",
    "\n",
    "df_term4['notification_date'].value_counts().shape"
   ]
  },
  {
   "cell_type": "code",
   "execution_count": 20,
   "id": "e7a693a5-d989-42be-b567-1284baf5b007",
   "metadata": {},
   "outputs": [
    {
     "data": {
      "text/plain": [
       "(9997, 2)"
      ]
     },
     "execution_count": 20,
     "metadata": {},
     "output_type": "execute_result"
    }
   ],
   "source": [
    "# extract all 0-19 cases within Term 4\n",
    "# count how many there were\n",
    "\n",
    "df_term4_0_19 = df_term4[df_term4['age_group'] == 'AgeGroup_0-19']\n",
    "df_term4_0_19.shape"
   ]
  },
  {
   "cell_type": "code",
   "execution_count": 21,
   "id": "ce4f5a03-a690-4bbc-845d-4a9b45e2bcaf",
   "metadata": {},
   "outputs": [
    {
     "data": {
      "text/plain": [
       "AgeGroup_0-19     9997\n",
       "AgeGroup_20-24    4178\n",
       "AgeGroup_25-29    3294\n",
       "AgeGroup_30-34    2627\n",
       "AgeGroup_35-39    2134\n",
       "AgeGroup_40-44    1794\n",
       "AgeGroup_45-49    1431\n",
       "AgeGroup_50-54    1170\n",
       "AgeGroup_70+       976\n",
       "AgeGroup_55-59     881\n",
       "AgeGroup_60-64     719\n",
       "AgeGroup_65-69     527\n",
       "Name: age_group, dtype: int64"
      ]
     },
     "execution_count": 21,
     "metadata": {},
     "output_type": "execute_result"
    }
   ],
   "source": [
    "# confirm that correct number of 0-19 rows was extracted from Term 4\n",
    "\n",
    "df_term4['age_group'].value_counts()"
   ]
  },
  {
   "cell_type": "code",
   "execution_count": 22,
   "id": "79f2ebff-7a78-4da1-b138-5c363ec9a134",
   "metadata": {},
   "outputs": [
    {
     "data": {
      "text/plain": [
       "(9997, 2)"
      ]
     },
     "execution_count": 22,
     "metadata": {},
     "output_type": "execute_result"
    }
   ],
   "source": [
    "# do it all again in reverse i.e. slice by age group first, then by date range, to confirm 9997 0-19 cases in Term 4\n",
    "\n",
    "df_term4_0_19_check = df[df['age_group'] == 'AgeGroup_0-19']\n",
    "df_term4_0_19_check = df_term4_0_19_check[(df_term4_0_19_check['notification_date'] >= '2021-10-05') & (df_term4_0_19_check['notification_date'] <= '2021-12-17')]\n",
    "df_term4_0_19_check.shape"
   ]
  },
  {
   "cell_type": "code",
   "execution_count": 23,
   "id": "362862d7-9840-4832-901b-f009c94910f9",
   "metadata": {},
   "outputs": [
    {
     "data": {
      "text/plain": [
       "33.6282292787944"
      ]
     },
     "execution_count": 23,
     "metadata": {},
     "output_type": "execute_result"
    }
   ],
   "source": [
    "# now that 9997 is confirmed, compute percentage of all Term 4 cases that were aged 0-19\n",
    "\n",
    "num_0_19 = df_term4_0_19.shape[0]\n",
    "num_all_ages = df_term4.shape[0]\n",
    "\n",
    "num_0_19/num_all_ages * 100"
   ]
  },
  {
   "cell_type": "code",
   "execution_count": null,
   "id": "a8017d73-b69f-4b43-8f94-f051f85ff1fa",
   "metadata": {},
   "outputs": [],
   "source": []
  }
 ],
 "metadata": {
  "kernelspec": {
   "display_name": "Python 3 (ipykernel)",
   "language": "python",
   "name": "python3"
  },
  "language_info": {
   "codemirror_mode": {
    "name": "ipython",
    "version": 3
   },
   "file_extension": ".py",
   "mimetype": "text/x-python",
   "name": "python",
   "nbconvert_exporter": "python",
   "pygments_lexer": "ipython3",
   "version": "3.8.12"
  }
 },
 "nbformat": 4,
 "nbformat_minor": 5
}
